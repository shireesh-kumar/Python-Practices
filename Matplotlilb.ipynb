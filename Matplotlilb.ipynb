{
  "nbformat": 4,
  "nbformat_minor": 0,
  "metadata": {
    "colab": {
      "name": "Matplotlilb.ipynb",
      "provenance": [],
      "collapsed_sections": [],
      "authorship_tag": "ABX9TyPsxwrOKCCPBmPip1GnS9Q/",
      "include_colab_link": true
    },
    "kernelspec": {
      "name": "python3",
      "display_name": "Python 3"
    },
    "language_info": {
      "name": "python"
    }
  },
  "cells": [
    {
      "cell_type": "markdown",
      "metadata": {
        "id": "view-in-github",
        "colab_type": "text"
      },
      "source": [
        "<a href=\"https://colab.research.google.com/github/shireesh-kumar/Python-Practices/blob/main/Matplotlilb.ipynb\" target=\"_parent\"><img src=\"https://colab.research.google.com/assets/colab-badge.svg\" alt=\"Open In Colab\"/></a>"
      ]
    },
    {
      "cell_type": "markdown",
      "source": [
        "**LINE CHART**"
      ],
      "metadata": {
        "id": "r0N4Y4X1XpP9"
      }
    },
    {
      "cell_type": "code",
      "execution_count": null,
      "metadata": {
        "id": "wvpXPp34VxGQ"
      },
      "outputs": [],
      "source": [
        "import numpy as np\n",
        "import matplotlib.pyplot as plt"
      ]
    },
    {
      "cell_type": "code",
      "source": [
        "x = np.arange(1,21,1)\n",
        "y = x**2"
      ],
      "metadata": {
        "id": "67Dzjl1hYnhG"
      },
      "execution_count": null,
      "outputs": []
    },
    {
      "cell_type": "code",
      "source": [
        ""
      ],
      "metadata": {
        "id": "sl1-MmPKrV9v"
      },
      "execution_count": null,
      "outputs": []
    },
    {
      "cell_type": "code",
      "source": [
        "plt.plot(x,y)\n",
        "plt.xlabel('input')\n",
        "plt.ylabel('output')\n",
        "plt.title('SQUARE FUNCTION');\n",
        "plt.show()"
      ],
      "metadata": {
        "colab": {
          "base_uri": "https://localhost:8080/",
          "height": 295
        },
        "id": "WN4xmuMsY4Ym",
        "outputId": "32f0bcb3-fd3b-43b4-80c5-ec4bc6e21ec5"
      },
      "execution_count": null,
      "outputs": [
        {
          "output_type": "display_data",
          "data": {
            "image/png": "[encoded data removed]",
            "text/plain": [
              "<Figure size 432x288 with 1 Axes>"
            ]
          },
          "metadata": {
            "needs_background": "light"
          }
        }
      ]
    },
    {
      "cell_type": "markdown",
      "source": [
        "**SCATTER PLOT**"
      ],
      "metadata": {
        "id": "lHDY-T_yZ4Su"
      }
    },
    {
      "cell_type": "code",
      "source": [
        "A = np.random.rand(100,2) # creates 2 D array for 100 rows and 2 columns \n",
        "plt.scatter(A[:,0],A[:,1])\n",
        "plt.show()"
      ],
      "metadata": {
        "colab": {
          "base_uri": "https://localhost:8080/",
          "height": 265
        },
        "id": "gP8fTDJNZ-MR",
        "outputId": "d7cf37e2-76d3-4844-b9a2-8f9eaeb4e4bf"
      },
      "execution_count": null,
      "outputs": [
        {
          "output_type": "display_data",
          "data": {
            "image/png": "[encoded data removed]",
            "text/plain": [
              "<Figure size 432x288 with 1 Axes>"
            ]
          },
          "metadata": {
            "needs_background": "light"
          }
        }
      ]
    },
    {
      "cell_type": "code",
      "source": [
        "B = np.array([[1,1],[2,2],[3,3]])\n",
        "plt.scatter(B[:,0],B[:,1])\n",
        "plt.show()"
      ],
      "metadata": {
        "id": "__Lwtms5avMQ"
      },
      "execution_count": null,
      "outputs": []
    },
    {
      "cell_type": "code",
      "source": [
        "C = np.array([[1,1],[2,2],[3,3],[4,4],[5,5],[6,6]])\n",
        "#C[:3] += 3  # till the 50th row to all the elements add 3 \n",
        "Y = np.zeros(6)\n",
        "Y[:3] = 1  # all the elements till 50th row as made 1 \n",
        "plt.scatter(C[:,0],C[:,1],c=Y)  # here the third param is as a 1D array \n",
        "plt.show();\n"
      ],
      "metadata": {
        "colab": {
          "base_uri": "https://localhost:8080/",
          "height": 265
        },
        "id": "vH0Wo-wybka4",
        "outputId": "6cb49f0d-e003-4614-85d1-74ddc772c102"
      },
      "execution_count": null,
      "outputs": [
        {
          "output_type": "display_data",
          "data": {
            "image/png": "[encoded data removed]",
            "text/plain": [
              "<Figure size 432x288 with 1 Axes>"
            ]
          },
          "metadata": {
            "needs_background": "light"
          }
        }
      ]
    },
    {
      "cell_type": "markdown",
      "source": [
        "**PLOTTING IMAGES**"
      ],
      "metadata": {
        "id": "6GGIAixohtE5"
      }
    },
    {
      "cell_type": "code",
      "source": [
        "f = np.array([[[1,2,3],[4,5,6],[7,8,9]],[[1,2,3],[4,5,6],[7,8,9]]])"
      ],
      "metadata": {
        "id": "jsMjin3BlGhT"
      },
      "execution_count": null,
      "outputs": []
    },
    {
      "cell_type": "code",
      "source": [
        "f"
      ],
      "metadata": {
        "colab": {
          "base_uri": "https://localhost:8080/"
        },
        "id": "Yn1yZHSElcLI",
        "outputId": "0de530c2-be4b-4f91-a455-851cd003c365"
      },
      "execution_count": null,
      "outputs": [
        {
          "output_type": "execute_result",
          "data": {
            "text/plain": [
              "array([[[1, 2, 3],\n",
              "        [4, 5, 6],\n",
              "        [7, 8, 9]],\n",
              "\n",
              "       [[1, 2, 3],\n",
              "        [4, 5, 6],\n",
              "        [7, 8, 9]]])"
            ]
          },
          "metadata": {},
          "execution_count": 46
        }
      ]
    },
    {
      "cell_type": "code",
      "source": [
        "f[0][0]"
      ],
      "metadata": {
        "colab": {
          "base_uri": "https://localhost:8080/"
        },
        "id": "E1CGNTXHldVJ",
        "outputId": "e7aac921-266d-4769-8463-bb66ad793f4c"
      },
      "execution_count": null,
      "outputs": [
        {
          "output_type": "execute_result",
          "data": {
            "text/plain": [
              "array([1, 2, 3])"
            ]
          },
          "metadata": {},
          "execution_count": 56
        }
      ]
    },
    {
      "cell_type": "code",
      "source": [
        "f.sum(axis=1)"
      ],
      "metadata": {
        "id": "Sruu5nyjlfZQ",
        "colab": {
          "base_uri": "https://localhost:8080/"
        },
        "outputId": "07b39f5f-93da-455f-d4cd-4e761c5c71ec"
      },
      "execution_count": null,
      "outputs": [
        {
          "output_type": "execute_result",
          "data": {
            "text/plain": [
              "array([[12, 15, 18],\n",
              "       [12, 15, 18]])"
            ]
          },
          "metadata": {},
          "execution_count": 60
        }
      ]
    },
    {
      "cell_type": "code",
      "source": [
        ""
      ],
      "metadata": {
        "id": "WWd9YzKqluvi"
      },
      "execution_count": null,
      "outputs": []
    }
  ]
}