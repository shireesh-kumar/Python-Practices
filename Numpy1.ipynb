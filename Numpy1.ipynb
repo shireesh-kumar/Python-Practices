{
  "nbformat": 4,
  "nbformat_minor": 0,
  "metadata": {
    "colab": {
      "name": "Numpy1.ipynb",
      "provenance": [],
      "collapsed_sections": [],
      "authorship_tag": "ABX9TyPWTQFijY3w9rjDx/5LkPAW",
      "include_colab_link": true
    },
    "kernelspec": {
      "name": "python3",
      "display_name": "Python 3"
    },
    "language_info": {
      "name": "python"
    }
  },
  "cells": [
    {
      "cell_type": "markdown",
      "metadata": {
        "id": "view-in-github",
        "colab_type": "text"
      },
      "source": [
        "<a href=\"https://colab.research.google.com/github/shireesh-kumar/Python-Practices/blob/main/Numpy1.ipynb\" target=\"_parent\"><img src=\"https://colab.research.google.com/assets/colab-badge.svg\" alt=\"Open In Colab\"/></a>"
      ]
    },
    {
      "cell_type": "markdown",
      "source": [
        "**Numpy Practice**"
      ],
      "metadata": {
        "id": "0bV0IxYfm6lN"
      }
    },
    {
      "cell_type": "code",
      "execution_count": null,
      "metadata": {
        "colab": {
          "base_uri": "https://localhost:8080/"
        },
        "id": "vdizgculm3xI",
        "outputId": "b34f3d5a-6dae-453f-e766-a98a6f060f89"
      },
      "outputs": [
        {
          "output_type": "stream",
          "name": "stdout",
          "text": [
            "[1 2 3]\n"
          ]
        }
      ],
      "source": [
        "#How to create a vector \n",
        "import numpy as np\n",
        "A = np.array([1,2,3])\n",
        "print(A)\n",
        "\n"
      ]
    },
    {
      "cell_type": "code",
      "source": [
        "#how python list operation different from numpy vector/array\n",
        "L = [1,2,3] #normal python list \n",
        "L + [4]\n",
        "#Basically add an element to the list \n",
        "\n",
        "#But in numpy\n",
        "print(A)\n",
        "A + [1]  #Adds the value to every element to the numpy array"
      ],
      "metadata": {
        "colab": {
          "base_uri": "https://localhost:8080/"
        },
        "id": "P-ooGhZunP7R",
        "outputId": "fb41f7ba-a261-41b6-ce39-61b8d246e038"
      },
      "execution_count": null,
      "outputs": [
        {
          "output_type": "stream",
          "name": "stdout",
          "text": [
            "[1 2 3]\n"
          ]
        },
        {
          "output_type": "execute_result",
          "data": {
            "text/plain": [
              "array([2, 3, 4])"
            ]
          },
          "metadata": {},
          "execution_count": 7
        }
      ]
    },
    {
      "cell_type": "code",
      "source": [
        "#normally numpy array works element wise contrary to the list in python\n",
        "print(A ** 2) #Gives the square of all the elements of the array\n",
        "print(np.sqrt(A)) #Gives the square root of all the elements of the array \n",
        "\n",
        "# where in , List behaves differently where we need to use iteration for element wise operation \n",
        "L2 = [e**2 for e in L]\n",
        "print(L2)"
      ],
      "metadata": {
        "colab": {
          "base_uri": "https://localhost:8080/"
        },
        "id": "QkVSzLCrnie4",
        "outputId": "8e9131b4-6bf6-4007-b51f-98aa88f92f3f"
      },
      "execution_count": null,
      "outputs": [
        {
          "output_type": "stream",
          "name": "stdout",
          "text": [
            "[1 4 9]\n",
            "[1.         1.41421356 1.73205081]\n",
            "[1, 4, 9]\n"
          ]
        }
      ]
    },
    {
      "cell_type": "markdown",
      "source": [
        "![image.png](data:image/png;base64,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)"
      ],
      "metadata": {
        "id": "mcjqim_LvLTn"
      }
    },
    {
      "cell_type": "code",
      "source": [
        "# Dot Product \n",
        "a = np.array([1,2])\n",
        "b = np.array([3,4])\n",
        "a.dot(b)   # basically multiples element wise and adds them up\n",
        "\n",
        "numerator = (a*b).sum()\n",
        "amag = np.sqrt((a**2).sum()) # another way to  do this is  np.linalg.norm(a)\n",
        "bmag = np.sqrt((b**2).sum())\n",
        "\n",
        "costheta = numerator / (amag * bmag)\n",
        "print(costheta)"
      ],
      "metadata": {
        "colab": {
          "base_uri": "https://localhost:8080/"
        },
        "id": "MnU57zAYrVYU",
        "outputId": "c89ce8be-feb9-4502-864a-7b4e4305a549"
      },
      "execution_count": null,
      "outputs": [
        {
          "output_type": "stream",
          "name": "stdout",
          "text": [
            "0.9838699100999074\n"
          ]
        }
      ]
    },
    {
      "cell_type": "markdown",
      "source": [
        "**MATRIX**"
      ],
      "metadata": {
        "id": "pZDaI6Uizx2E"
      }
    },
    {
      "cell_type": "code",
      "source": [
        "L = [[1,2],[3,4]]\n",
        "L[0][1] # only works in case of normal lists \n",
        "#Numpy\n",
        "A = np.array([[1,2],[3,4]])"
      ],
      "metadata": {
        "id": "j_TFnWDwz0Y6"
      },
      "execution_count": null,
      "outputs": []
    },
    {
      "cell_type": "code",
      "source": [
        "A[:,1]  \n",
        "np.exp(L) #numpy can we perform on normal lists as well non need to convert it into numpy array"
      ],
      "metadata": {
        "colab": {
          "base_uri": "https://localhost:8080/"
        },
        "id": "mqJtB1fh090w",
        "outputId": "3882262a-2149-4609-f932-e4dbaa51a567"
      },
      "execution_count": null,
      "outputs": [
        {
          "output_type": "execute_result",
          "data": {
            "text/plain": [
              "array([[ 2.71828183,  7.3890561 ],\n",
              "       [20.08553692, 54.59815003]])"
            ]
          },
          "metadata": {},
          "execution_count": 36
        }
      ]
    },
    {
      "cell_type": "code",
      "source": [
        ""
      ],
      "metadata": {
        "id": "Gwr_AVRz1LtM"
      },
      "execution_count": null,
      "outputs": []
    }
  ]
}